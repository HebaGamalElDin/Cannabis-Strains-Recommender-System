{
 "cells": [
  {
   "cell_type": "markdown",
   "metadata": {},
   "source": [
    "=========================================================================================================================================\n",
    "\n",
    "                                                                Exploratory Data Analysis  \n",
    "                                                                        EDA Part\n",
    "\n",
    "========================================================================================================================================="
   ]
  },
  {
   "cell_type": "markdown",
   "metadata": {},
   "source": [
    "=) Loading The Dataset"
   ]
  },
  {
   "cell_type": "code",
   "execution_count": 1,
   "metadata": {},
   "outputs": [
    {
     "data": {
      "text/html": [
       "<div>\n",
       "<style scoped>\n",
       "    .dataframe tbody tr th:only-of-type {\n",
       "        vertical-align: middle;\n",
       "    }\n",
       "\n",
       "    .dataframe tbody tr th {\n",
       "        vertical-align: top;\n",
       "    }\n",
       "\n",
       "    .dataframe thead th {\n",
       "        text-align: right;\n",
       "    }\n",
       "</style>\n",
       "<table border=\"1\" class=\"dataframe\">\n",
       "  <thead>\n",
       "    <tr style=\"text-align: right;\">\n",
       "      <th></th>\n",
       "      <th>Strain</th>\n",
       "      <th>Type</th>\n",
       "      <th>Rating</th>\n",
       "      <th>Flavor</th>\n",
       "      <th>Effects</th>\n",
       "      <th>Medical_usage</th>\n",
       "      <th>Description</th>\n",
       "    </tr>\n",
       "  </thead>\n",
       "  <tbody>\n",
       "    <tr>\n",
       "      <th>2346</th>\n",
       "      <td>Zeus-Og</td>\n",
       "      <td>hybrid</td>\n",
       "      <td>4.7</td>\n",
       "      <td>Earthy,Woody,Pine</td>\n",
       "      <td>Happy,Uplifted,Relaxed,Euphoric,Energetic</td>\n",
       "      <td>NaN</td>\n",
       "      <td>Zeus OG is a hybrid cross between Pineapple OG...</td>\n",
       "    </tr>\n",
       "    <tr>\n",
       "      <th>2347</th>\n",
       "      <td>Zkittlez</td>\n",
       "      <td>indica</td>\n",
       "      <td>4.6</td>\n",
       "      <td>Sweet,Berry,Grape</td>\n",
       "      <td>Relaxed,Happy,Euphoric,Uplifted,Sleepy</td>\n",
       "      <td>NaN</td>\n",
       "      <td>Zkittlez is an indica-dominant mix of Grape Ap...</td>\n",
       "    </tr>\n",
       "    <tr>\n",
       "      <th>2348</th>\n",
       "      <td>Zombie-Kush</td>\n",
       "      <td>indica</td>\n",
       "      <td>5.0</td>\n",
       "      <td>Earthy,Sweet,Spicy/Herbal</td>\n",
       "      <td>Relaxed,Sleepy,Talkative,Euphoric,Happy</td>\n",
       "      <td>NaN</td>\n",
       "      <td>Zombie Kush by Ripper Seeds comes from two dif...</td>\n",
       "    </tr>\n",
       "    <tr>\n",
       "      <th>2349</th>\n",
       "      <td>Zombie-Og</td>\n",
       "      <td>indica</td>\n",
       "      <td>4.4</td>\n",
       "      <td>Sweet,Earthy,Pungent</td>\n",
       "      <td>Relaxed,Sleepy,Euphoric,Happy,Hungry</td>\n",
       "      <td>NaN</td>\n",
       "      <td>If you’re looking to transform into a flesh-ea...</td>\n",
       "    </tr>\n",
       "    <tr>\n",
       "      <th>2350</th>\n",
       "      <td>Zoom-Pie</td>\n",
       "      <td>indica</td>\n",
       "      <td>4.6</td>\n",
       "      <td>Berry,Earthy,Pungent</td>\n",
       "      <td>Hungry,Relaxed,Uplifted,Happy,Sleepy</td>\n",
       "      <td>NaN</td>\n",
       "      <td>Zoom Pie (also known as Zombie Pie) is a heavy...</td>\n",
       "    </tr>\n",
       "  </tbody>\n",
       "</table>\n",
       "</div>"
      ],
      "text/plain": [
       "           Strain    Type  Rating                     Flavor  \\\n",
       "2346      Zeus-Og  hybrid     4.7          Earthy,Woody,Pine   \n",
       "2347     Zkittlez  indica     4.6          Sweet,Berry,Grape   \n",
       "2348  Zombie-Kush  indica     5.0  Earthy,Sweet,Spicy/Herbal   \n",
       "2349    Zombie-Og  indica     4.4       Sweet,Earthy,Pungent   \n",
       "2350     Zoom-Pie  indica     4.6       Berry,Earthy,Pungent   \n",
       "\n",
       "                                        Effects Medical_usage  \\\n",
       "2346  Happy,Uplifted,Relaxed,Euphoric,Energetic           NaN   \n",
       "2347     Relaxed,Happy,Euphoric,Uplifted,Sleepy           NaN   \n",
       "2348    Relaxed,Sleepy,Talkative,Euphoric,Happy           NaN   \n",
       "2349       Relaxed,Sleepy,Euphoric,Happy,Hungry           NaN   \n",
       "2350       Hungry,Relaxed,Uplifted,Happy,Sleepy           NaN   \n",
       "\n",
       "                                            Description  \n",
       "2346  Zeus OG is a hybrid cross between Pineapple OG...  \n",
       "2347  Zkittlez is an indica-dominant mix of Grape Ap...  \n",
       "2348  Zombie Kush by Ripper Seeds comes from two dif...  \n",
       "2349  If you’re looking to transform into a flesh-ea...  \n",
       "2350  Zoom Pie (also known as Zombie Pie) is a heavy...  "
      ]
     },
     "execution_count": 1,
     "metadata": {},
     "output_type": "execute_result"
    }
   ],
   "source": [
    "import pandas as pd\n",
    "import numpy as np\n",
    "Data = pd.read_csv(\"cannabis.csv\")\n",
    "Data.tail()"
   ]
  },
  {
   "cell_type": "markdown",
   "metadata": {},
   "source": [
    "                                ===================================================\n",
    "                    \n",
    "=) Checking The Columns Which Contain \"Nan\" Values"
   ]
  },
  {
   "cell_type": "code",
   "execution_count": 2,
   "metadata": {},
   "outputs": [
    {
     "data": {
      "text/plain": [
       "Strain           False\n",
       "Type             False\n",
       "Rating           False\n",
       "Flavor            True\n",
       "Effects          False\n",
       "Medical_usage     True\n",
       "Description       True\n",
       "dtype: bool"
      ]
     },
     "execution_count": 2,
     "metadata": {},
     "output_type": "execute_result"
    }
   ],
   "source": [
    "Data.isna().any()"
   ]
  },
  {
   "cell_type": "markdown",
   "metadata": {},
   "source": [
    "                                ==========================================================\n",
    "            \n",
    "=) Drop \"Nan\" Raw Values of all Columns Except \"Medical_usage\""
   ]
  },
  {
   "cell_type": "code",
   "execution_count": 3,
   "metadata": {},
   "outputs": [
    {
     "name": "stdout",
     "output_type": "stream",
     "text": [
      "Strain           False\n",
      "Type             False\n",
      "Rating           False\n",
      "Flavor           False\n",
      "Effects          False\n",
      "Description      False\n",
      "Medical_usage     True\n",
      "dtype: bool\n"
     ]
    },
    {
     "data": {
      "text/plain": [
       "(2277, 7)"
      ]
     },
     "execution_count": 3,
     "metadata": {},
     "output_type": "execute_result"
    }
   ],
   "source": [
    "Data_ = Data.loc[:, Data.columns != 'Medical_usage'].dropna(axis=0)\n",
    "Data_['Medical_usage'] = Data['Medical_usage']\n",
    "print(Data_.isna().any())\n",
    "Data_.shape"
   ]
  },
  {
   "cell_type": "markdown",
   "metadata": {},
   "source": [
    "                                ===========================================================\n",
    "Plotting the count ranges of different \"ratings\" in Rating column"
   ]
  },
  {
   "cell_type": "code",
   "execution_count": 4,
   "metadata": {},
   "outputs": [
    {
     "name": "stdout",
     "output_type": "stream",
     "text": [
      "4.5    309\n",
      "4.3    295\n",
      "4.4    283\n",
      "4.6    238\n",
      "4.2    218\n",
      "5.0    199\n",
      "4.7    161\n",
      "4.8    156\n",
      "4.1     94\n",
      "4.0     93\n",
      "0.0     66\n",
      "4.9     59\n",
      "3.9     28\n",
      "3.8     19\n",
      "3.7     13\n",
      "3.0     13\n",
      "3.6     10\n",
      "3.5      8\n",
      "3.4      5\n",
      "3.3      3\n",
      "3.2      2\n",
      "2.0      2\n",
      "3.1      1\n",
      "1.0      1\n",
      "2.8      1\n",
      "Name: Rating, dtype: int64\n"
     ]
    },
    {
     "data": {
      "text/plain": [
       "Text(0.5, 1.0, 'Ratings ranges')"
      ]
     },
     "execution_count": 4,
     "metadata": {},
     "output_type": "execute_result"
    },
    {
     "data": {
      "image/png": "[encoded data removed]",
      "text/plain": [
       "<Figure size 720x720 with 1 Axes>"
      ]
     },
     "metadata": {
      "needs_background": "light"
     },
     "output_type": "display_data"
    }
   ],
   "source": [
    "print(Data_.Rating.value_counts())\n",
    "ax = Data_.Rating.value_counts().plot(kind='bar', figsize=(10, 10))\n",
    "ax.set_xlabel(\"Rates\")\n",
    "ax.set_ylabel(\"Number of training Samples Per Rate\")\n",
    "ax.set_title(\"Ratings ranges\")"
   ]
  },
  {
   "cell_type": "markdown",
   "metadata": {},
   "source": [
    "                ===================================================\n",
    "\n",
    "=) Plotting Different types Count of Type column"
   ]
  },
  {
   "cell_type": "code",
   "execution_count": 5,
   "metadata": {},
   "outputs": [
    {
     "name": "stdout",
     "output_type": "stream",
     "text": [
      "hybrid    1169\n",
      "indica     680\n",
      "sativa     428\n",
      "Name: Type, dtype: int64\n"
     ]
    },
    {
     "data": {
      "text/plain": [
       "Text(0.5, 1.0, 'Type ranges')"
      ]
     },
     "execution_count": 5,
     "metadata": {},
     "output_type": "execute_result"
    },
    {
     "data": {
      "image/png": "[encoded data removed]",
      "text/plain": [
       "<Figure size 720x720 with 1 Axes>"
      ]
     },
     "metadata": {
      "needs_background": "light"
     },
     "output_type": "display_data"
    }
   ],
   "source": [
    "print(Data_.Type.value_counts())\n",
    "ay = Data_.Type.value_counts().plot(kind='barh', figsize=(10, 10))\n",
    "ay.set_xlabel(\"Number of training Samples Per Rate\")\n",
    "ay.set_ylabel(\"Type\")\n",
    "ay.set_title(\"Type ranges\")"
   ]
  },
  {
   "cell_type": "markdown",
   "metadata": {},
   "source": [
    "         ==============================================================\n",
    "\n",
    "  1) Getting Unique Flavors of Flavor column, then count for each its number times of occurance.\n",
    "  \n",
    "  2) Print The Table of Unique Flavors along with its number of occurances per dataset\n",
    "\n",
    "  3) Plot the count ranges of Flavor column"
   ]
  },
  {
   "cell_type": "code",
   "execution_count": 6,
   "metadata": {},
   "outputs": [
    {
     "name": "stdout",
     "output_type": "stream",
     "text": [
      "      \n",
      "  FLAVOR        COUNT  \n",
      "    \n",
      "  Ammonia       28     \n",
      "  Apple         16     \n",
      "  Apricot       8      \n",
      "  Berry         352    \n",
      "  Blue          151    \n",
      "  Blueberry     144    \n",
      "  Butter        19     \n",
      "  Cheese        63     \n",
      "  Chemical      36     \n",
      "  Chestnut      7      \n",
      "  Citrus        518    \n",
      "  Coffee        24     \n",
      "  Diesel        237    \n",
      "  Earthy        1093   \n",
      "  Flowery       265    \n",
      "  Fruit         31     \n",
      "  Grape         161    \n",
      "  Grapefruit    38     \n",
      "  Honey         31     \n",
      "  Lavender      37     \n",
      "  Lemon         190    \n",
      "  Lime          52     \n",
      "  Mango         32     \n",
      "  Menthol       22     \n",
      "  Mint          54     \n",
      "  Minty         41     \n",
      "  None          110    \n",
      "  Nutty         25     \n",
      "  Orange        76     \n",
      "  Peach         6      \n",
      "  Pear          3      \n",
      "  Pepper        58     \n",
      "  Pine          330    \n",
      "  Pineapple     41     \n",
      "  Plum          2      \n",
      "  Pungent       441    \n",
      "  Rose          16     \n",
      "  Sage          39     \n",
      "  Skunk         169    \n",
      "  Spicy/Herbal  225    \n",
      "  Strawberry    47     \n",
      "  Sweet         1041   \n",
      "  Tar           7      \n",
      "  Tea           17     \n",
      "  Tobacco       8      \n",
      "  Tree          31     \n",
      "  Tropical      153    \n",
      "  Vanilla       33     \n",
      "  Violet        7      \n",
      "  Woody         252    \n",
      "\n"
     ]
    },
    {
     "data": {
      "text/plain": [
       "Text(0.5, 1.0, \"Flavors' ranges\")"
      ]
     },
     "execution_count": 6,
     "metadata": {},
     "output_type": "execute_result"
    },
    {
     "data": {
      "image/png": "[encoded data removed]",
      "text/plain": [
       "<Figure size 3600x720 with 1 Axes>"
      ]
     },
     "metadata": {
      "needs_background": "light"
     },
     "output_type": "display_data"
    }
   ],
   "source": [
    "from itertools import chain \n",
    "Flavors = sorted(list(set(list(chain(*[str(X).split(\",\") for X in Data_.Flavor])))))\n",
    "Dict = {}\n",
    "for x in Flavors:\n",
    "    Dict[str(x)] = 0\n",
    "    for y in Data_.Flavor.values:\n",
    "        if x in y:\n",
    "            Dict[str(x)]+=1\n",
    "            \n",
    "from columnar import columnar\n",
    "headers = ['Flavor', 'Count']\n",
    "Flavors = list(map(list, Dict.items()))\n",
    "table = columnar(Flavors, headers, no_borders=True)\n",
    "print(table)\n",
    "\n",
    "import matplotlib.pyplot as plt\n",
    "plt.subplots(figsize=(50,10))\n",
    "plt.bar(Dict.keys(), Dict.values())\n",
    "plt.xlabel(\"Flavors\")\n",
    "plt.ylabel(\"Number of training samples per flavor\")\n",
    "plt.title(\"Flavors' ranges\")"
   ]
  },
  {
   "cell_type": "markdown",
   "metadata": {},
   "source": [
    "                        =================================================================\n",
    "\n",
    "    1) Getting Unique Effects of Effects column, then count for each its number times of occurance.\n",
    "    2) Plot the count of Effects column"
   ]
  },
  {
   "cell_type": "code",
   "execution_count": 7,
   "metadata": {},
   "outputs": [
    {
     "name": "stdout",
     "output_type": "stream",
     "text": [
      "      \n",
      "  EFFECTS    COUNT  \n",
      "    \n",
      "  Aroused    199    \n",
      "  Creative   747    \n",
      "  Dry        1      \n",
      "  Energetic  646    \n",
      "  Euphoric   1635   \n",
      "  Focused    595    \n",
      "  Giggly     298    \n",
      "  Happy      1871   \n",
      "  Hungry     479    \n",
      "  Mouth      1      \n",
      "  None       87     \n",
      "  Relaxed    1726   \n",
      "  Sleepy     738    \n",
      "  Talkative  360    \n",
      "  Tingly     346    \n",
      "  Uplifted   1507   \n",
      "\n"
     ]
    },
    {
     "data": {
      "text/plain": [
       "Text(0.5, 1.0, \"Effects' Ranges\")"
      ]
     },
     "execution_count": 7,
     "metadata": {},
     "output_type": "execute_result"
    },
    {
     "data": {
      "image/png": "[encoded data removed]",
      "text/plain": [
       "<Figure size 2160x720 with 1 Axes>"
      ]
     },
     "metadata": {
      "needs_background": "light"
     },
     "output_type": "display_data"
    }
   ],
   "source": [
    "Effects = sorted(list(set(list(chain(*[str(X).split(\",\") for X in Data.Effects])))))\n",
    "Dict1 = {}\n",
    "for x in Effects:\n",
    "    Dict1[str(x)] = 0\n",
    "    for y in Data.Effects:\n",
    "        if x in y:\n",
    "            Dict1[str(x)]+=1\n",
    "\n",
    "from columnar import columnar\n",
    "headers = ['Effects', 'Count']\n",
    "Effects = list(map(list, Dict1.items()))\n",
    "table1 = columnar(Effects, headers, no_borders=True)\n",
    "print(table1)\n",
    "\n",
    "import matplotlib.pyplot as plt\n",
    "plt.subplots(figsize=(30,10))\n",
    "plt.bar(Dict1.keys(), Dict1.values())\n",
    "plt.xlabel(\"Effects\")\n",
    "plt.ylabel(\"Number of training samples per Effect\")\n",
    "plt.title(\"Effects' Ranges\")"
   ]
  },
  {
   "cell_type": "markdown",
   "metadata": {},
   "source": [
    "            ===========================================================\n",
    "\n",
    "=) Plotting Medical_usage Column"
   ]
  },
  {
   "cell_type": "code",
   "execution_count": 8,
   "metadata": {},
   "outputs": [
    {
     "name": "stdout",
     "output_type": "stream",
     "text": [
      "Nonmedical    226\n",
      "Medical       164\n",
      "Name: Medical_usage, dtype: int64\n"
     ]
    },
    {
     "data": {
      "text/plain": [
       "Text(0.5, 1.0, 'Medical_usage Class ranges')"
      ]
     },
     "execution_count": 8,
     "metadata": {},
     "output_type": "execute_result"
    },
    {
     "data": {
      "image/png": "[encoded data removed]",
      "text/plain": [
       "<Figure size 720x720 with 1 Axes>"
      ]
     },
     "metadata": {
      "needs_background": "light"
     },
     "output_type": "display_data"
    }
   ],
   "source": [
    "print(Data_.Medical_usage.value_counts())\n",
    "az = Data_.Medical_usage.value_counts().plot(kind='barh', figsize=(10, 10))\n",
    "az.set_xlabel(\"Number of training Samples Per Rate\")\n",
    "az.set_ylabel(\"Medical Usage\")\n",
    "az.set_title(\"Medical_usage Class ranges\")"
   ]
  },
  {
   "cell_type": "markdown",
   "metadata": {},
   "source": [
    "=========================================================================================================================================\n",
    "\n",
    "                                                                Filling Medical_usage Column Values\n",
    "                                                                     Deep Network Classifier\n",
    "\n",
    "========================================================================================================================================="
   ]
  },
  {
   "cell_type": "markdown",
   "metadata": {},
   "source": [
    "Read only Labeled Raws which used to predict the other unlabeled Raws\n",
    "\n",
    "Description Raw Data is a text Document Represents The Context of the category wheather \"Medical\" or \"Nonmedical\""
   ]
  },
  {
   "cell_type": "code",
   "execution_count": 9,
   "metadata": {},
   "outputs": [],
   "source": [
    "DF = Data[[\"Description\", \"Medical_usage\"]][:401]"
   ]
  },
  {
   "cell_type": "markdown",
   "metadata": {},
   "source": [
    "Medical_usage Class is imbalanced as shown in the above plot of EDA section\n",
    "\n",
    "Resample Method is used in this sitiuation to make Data Augmentaion for \"Medical\" Category which smaller than \"Nonmedical\" Category\n",
    "\n",
    "Advantage : Achiving Balanced Dataset, Avoiding \"Bias\" to the largest class during Classification the unlabeld data which implies false predictions"
   ]
  },
  {
   "cell_type": "code",
   "execution_count": 10,
   "metadata": {},
   "outputs": [
    {
     "name": "stdout",
     "output_type": "stream",
     "text": [
      "Medical       230\n",
      "Nonmedical    230\n",
      "Name: Medical_usage, dtype: int64\n"
     ]
    },
    {
     "data": {
      "text/plain": [
       "Text(0.5, 1.0, 'Resampled Medical_usage Column ')"
      ]
     },
     "execution_count": 10,
     "metadata": {},
     "output_type": "execute_result"
    },
    {
     "data": {
      "image/png": "[encoded data removed]",
      "text/plain": [
       "<Figure size 432x288 with 1 Axes>"
      ]
     },
     "metadata": {
      "needs_background": "light"
     },
     "output_type": "display_data"
    }
   ],
   "source": [
    "from sklearn.utils import resample\n",
    "df_majority = DF[DF.Medical_usage=='Nonmedical']\n",
    "df_minority = DF[DF.Medical_usage =='Medical']\n",
    "df_minority_upsampled = resample(df_minority, replace=True, n_samples=230, random_state=123)\n",
    " \n",
    "DF_ = pd.concat([df_majority, df_minority_upsampled])\n",
    "\n",
    "print(DF_.Medical_usage.value_counts())\n",
    "ay = DF_.Medical_usage.value_counts(sort=False).plot(kind='barh')\n",
    "ay.set_xlabel(\"Number of Samples in training Set After Resampling\")\n",
    "ay.set_ylabel(\"Label\")\n",
    "ay.set_title(\"Resampled Medical_usage Column \")"
   ]
  },
  {
   "cell_type": "markdown",
   "metadata": {},
   "source": [
    "                                            ==========================================================\n",
    "\n",
    "=) Making Some Feature Engineering on Description Column (i.e removing stopwords, lower, and lemmatiza the discription column)"
   ]
  },
  {
   "cell_type": "code",
   "execution_count": 11,
   "metadata": {},
   "outputs": [],
   "source": [
    "DF_ = DF_.sample(frac=1).reset_index(drop=True)\n",
    "X = DF_.Description\n",
    "Y = DF_.Medical_usage\n",
    "\n",
    "from nltk.corpus import stopwords\n",
    "stop = stopwords.words('english')\n",
    "from nltk.stem import WordNetLemmatizer\n",
    "wordnet_lemmatizer = WordNetLemmatizer()\n",
    "\n",
    "X = X.str.lower()\n",
    "X = X.apply(lambda x: ' '.join([wordnet_lemmatizer.lemmatize(item) for item in x.split() if item not in stop]))"
   ]
  },
  {
   "cell_type": "markdown",
   "metadata": {},
   "source": [
    "=) Apply LabelEncoder:: from text labels(i.e \"Medical\", \"Nonmedical\") into binary labels (i.e 0 or 1)"
   ]
  },
  {
   "cell_type": "code",
   "execution_count": 12,
   "metadata": {},
   "outputs": [],
   "source": [
    "from sklearn.preprocessing import LabelEncoder\n",
    "Encoder = LabelEncoder()\n",
    "Y_ = Encoder.fit_transform(Y)"
   ]
  },
  {
   "cell_type": "markdown",
   "metadata": {},
   "source": [
    "=) Splitting The Dataset Into Train & Test Sets"
   ]
  },
  {
   "cell_type": "code",
   "execution_count": 13,
   "metadata": {},
   "outputs": [],
   "source": [
    "from sklearn.model_selection import train_test_split\n",
    "X_train, X_test, Y_train, Y_test = train_test_split(X, Y_, test_size=0.30,random_state=109)"
   ]
  },
  {
   "cell_type": "markdown",
   "metadata": {},
   "source": [
    "1) Apply \"Tokenizer\" to Split and Extract Vocabulary from Text Data.\n",
    "\n",
    "2) Transform each sentence sequence into numeric sequence as defined in tokenizer object."
   ]
  },
  {
   "cell_type": "code",
   "execution_count": 14,
   "metadata": {},
   "outputs": [
    {
     "name": "stderr",
     "output_type": "stream",
     "text": [
      "Using TensorFlow backend.\n"
     ]
    }
   ],
   "source": [
    "from keras.preprocessing.text import Tokenizer\n",
    "from keras.preprocessing.sequence import pad_sequences\n",
    "Obj = Tokenizer(oov_token=1)\n",
    "Obj.fit_on_texts(Data_.Description)\n",
    "\n",
    "X_train1 = Obj.texts_to_sequences(X_train)\n",
    "X_test1 = Obj.texts_to_sequences(X_test)"
   ]
  },
  {
   "cell_type": "markdown",
   "metadata": {},
   "source": [
    "1) Defining Some Important Parameters :: \n",
    "\n",
    "    Max_len represents The maximum number of words in X_train sentences.\n",
    "    Vocab_size represents the number of vocabulary which's extracted in Tokenizer Object.\n",
    "    Embed_Dim represents Embedding Diminsionality in Embedding Layer in the network.\n",
    "\n",
    "2) Pad_sequences appends \"zeros\" to let all sequence equally in size\n"
   ]
  },
  {
   "cell_type": "code",
   "execution_count": 15,
   "metadata": {},
   "outputs": [],
   "source": [
    "Max_len = max([len(x) for x in X_train1])\n",
    "Vocab_size = len(Obj.word_index) + 1\n",
    "Embed_Dim = 50\n",
    "X_train_ = pad_sequences(X_train1, padding='post', maxlen=Max_len)\n",
    "X_test_ = pad_sequences(X_test1, padding='post', maxlen=Max_len)"
   ]
  },
  {
   "cell_type": "markdown",
   "metadata": {},
   "source": [
    "=) Prepare Glove Pre-trained Embeddings (text vectorizer)"
   ]
  },
  {
   "cell_type": "code",
   "execution_count": 16,
   "metadata": {},
   "outputs": [
    {
     "name": "stdout",
     "output_type": "stream",
     "text": [
      "Loaded 400000 word vectors.\n"
     ]
    }
   ],
   "source": [
    "# load the whole embedding into memory\n",
    "embeddings_index = dict()\n",
    "f = open('glove.6B.50d.txt', mode='rt', encoding='utf-8')\n",
    "for line in f:\n",
    "    \n",
    "    values = line.split()\n",
    "    word = values[0]\n",
    "    coefs = np.asarray(values[1:], dtype='float32')\n",
    "    embeddings_index[word] = coefs\n",
    "f.close()\n",
    "print('Loaded %s word vectors.' % len(embeddings_index))\n",
    "# create a weight matrix for words in training docs\n",
    "embedding_matrix = np.zeros((Vocab_size, 50))\n",
    "for word, i in Obj.word_index.items():\n",
    "    \n",
    "    embedding_vector = embeddings_index.get(word)\n",
    "    if embedding_vector is not None:\n",
    "        embedding_matrix[i] = embedding_vector"
   ]
  },
  {
   "cell_type": "markdown",
   "metadata": {},
   "source": [
    "=) Designing The Recurrent Network Architicture using Bidirectional GRU"
   ]
  },
  {
   "cell_type": "code",
   "execution_count": 35,
   "metadata": {},
   "outputs": [
    {
     "name": "stdout",
     "output_type": "stream",
     "text": [
      "Model: \"sequential_13\"\n",
      "_________________________________________________________________\n",
      "Layer (type)                 Output Shape              Param #   \n",
      "=================================================================\n",
      "embedding_13 (Embedding)     (None, 105, 50)           529700    \n",
      "_________________________________________________________________\n",
      "bidirectional_13 (Bidirectio (None, 105, 100)          30300     \n",
      "_________________________________________________________________\n",
      "dropout_12 (Dropout)         (None, 105, 100)          0         \n",
      "_________________________________________________________________\n",
      "flatten_13 (Flatten)         (None, 10500)             0         \n",
      "_________________________________________________________________\n",
      "dense_13 (Dense)             (None, 1)                 10501     \n",
      "=================================================================\n",
      "Total params: 570,501\n",
      "Trainable params: 40,801\n",
      "Non-trainable params: 529,700\n",
      "_________________________________________________________________\n",
      "None\n",
      "Train on 322 samples, validate on 138 samples\n",
      "Epoch 1/200\n",
      "322/322 [==============================] - 3s 8ms/step - loss: 2.0931 - accuracy: 0.5186 - val_loss: 2.0933 - val_accuracy: 0.4493\n",
      "Epoch 2/200\n",
      "322/322 [==============================] - 1s 3ms/step - loss: 1.7808 - accuracy: 0.7050 - val_loss: 1.8980 - val_accuracy: 0.4565\n",
      "Epoch 3/200\n",
      "322/322 [==============================] - 1s 3ms/step - loss: 1.5814 - accuracy: 0.7733 - val_loss: 1.5748 - val_accuracy: 0.7029\n",
      "Epoch 4/200\n",
      "322/322 [==============================] - 1s 3ms/step - loss: 1.4021 - accuracy: 0.8416 - val_loss: 1.4012 - val_accuracy: 0.7971\n",
      "Epoch 5/200\n",
      "322/322 [==============================] - 1s 4ms/step - loss: 1.2465 - accuracy: 0.8509 - val_loss: 1.4355 - val_accuracy: 0.6304\n",
      "Epoch 6/200\n",
      "322/322 [==============================] - 1s 4ms/step - loss: 1.1206 - accuracy: 0.8882 - val_loss: 1.2979 - val_accuracy: 0.6812\n",
      "Epoch 7/200\n",
      "322/322 [==============================] - 1s 3ms/step - loss: 1.0319 - accuracy: 0.8696 - val_loss: 1.1631 - val_accuracy: 0.7536\n",
      "Epoch 8/200\n",
      "322/322 [==============================] - 1s 3ms/step - loss: 0.9123 - accuracy: 0.9068 - val_loss: 1.0286 - val_accuracy: 0.8043\n",
      "Epoch 9/200\n",
      "322/322 [==============================] - 1s 3ms/step - loss: 0.8168 - accuracy: 0.9130 - val_loss: 0.9879 - val_accuracy: 0.8261\n",
      "Epoch 10/200\n",
      "322/322 [==============================] - 1s 3ms/step - loss: 0.7391 - accuracy: 0.9193 - val_loss: 1.1033 - val_accuracy: 0.7246\n",
      "Epoch 11/200\n",
      "322/322 [==============================] - 1s 4ms/step - loss: 0.6966 - accuracy: 0.9317 - val_loss: 0.8353 - val_accuracy: 0.8333\n",
      "Epoch 12/200\n",
      "322/322 [==============================] - 1s 3ms/step - loss: 0.6194 - accuracy: 0.9255 - val_loss: 0.9448 - val_accuracy: 0.7754\n",
      "Epoch 13/200\n",
      "322/322 [==============================] - 1s 4ms/step - loss: 0.5795 - accuracy: 0.9255 - val_loss: 0.8243 - val_accuracy: 0.8043\n",
      "Epoch 14/200\n",
      "322/322 [==============================] - 1s 3ms/step - loss: 0.5455 - accuracy: 0.9379 - val_loss: 0.8781 - val_accuracy: 0.7754\n",
      "Epoch 15/200\n",
      "322/322 [==============================] - 1s 3ms/step - loss: 0.4856 - accuracy: 0.9689 - val_loss: 0.7613 - val_accuracy: 0.8188\n",
      "Epoch 16/200\n",
      "322/322 [==============================] - 1s 3ms/step - loss: 0.4617 - accuracy: 0.9689 - val_loss: 1.0374 - val_accuracy: 0.7246\n",
      "Epoch 17/200\n",
      "322/322 [==============================] - 1s 3ms/step - loss: 0.4522 - accuracy: 0.9534 - val_loss: 0.7343 - val_accuracy: 0.8261\n",
      "Epoch 18/200\n",
      "322/322 [==============================] - 1s 3ms/step - loss: 0.4027 - accuracy: 0.9814 - val_loss: 0.7555 - val_accuracy: 0.8188\n",
      "Epoch 19/200\n",
      "322/322 [==============================] - 1s 3ms/step - loss: 0.3982 - accuracy: 0.9783 - val_loss: 0.9544 - val_accuracy: 0.7464\n",
      "Epoch 20/200\n",
      "322/322 [==============================] - 1s 3ms/step - loss: 0.3853 - accuracy: 0.9752 - val_loss: 0.6569 - val_accuracy: 0.8333\n",
      "Epoch 21/200\n",
      "322/322 [==============================] - 1s 4ms/step - loss: 0.3785 - accuracy: 0.9627 - val_loss: 0.6374 - val_accuracy: 0.8478\n",
      "Epoch 22/200\n",
      "322/322 [==============================] - 1s 4ms/step - loss: 0.3438 - accuracy: 0.9907 - val_loss: 0.6504 - val_accuracy: 0.8333\n",
      "Epoch 23/200\n",
      "322/322 [==============================] - 1s 3ms/step - loss: 0.3289 - accuracy: 0.9845 - val_loss: 0.7443 - val_accuracy: 0.8406\n",
      "Epoch 24/200\n",
      "322/322 [==============================] - 1s 3ms/step - loss: 0.3365 - accuracy: 0.9814 - val_loss: 0.6931 - val_accuracy: 0.8188\n",
      "Epoch 25/200\n",
      "322/322 [==============================] - 1s 4ms/step - loss: 0.3192 - accuracy: 0.9814 - val_loss: 0.6640 - val_accuracy: 0.8333\n",
      "Epoch 26/200\n",
      "322/322 [==============================] - 1s 4ms/step - loss: 0.2997 - accuracy: 0.9845 - val_loss: 0.6578 - val_accuracy: 0.8551\n",
      "Epoch 27/200\n",
      "322/322 [==============================] - 1s 4ms/step - loss: 0.2748 - accuracy: 1.0000 - val_loss: 1.7378 - val_accuracy: 0.5580\n",
      "Epoch 28/200\n",
      "322/322 [==============================] - 1s 4ms/step - loss: 0.3275 - accuracy: 0.9720 - val_loss: 0.6286 - val_accuracy: 0.8551\n",
      "Epoch 29/200\n",
      "322/322 [==============================] - 1s 3ms/step - loss: 0.2579 - accuracy: 1.0000 - val_loss: 0.7181 - val_accuracy: 0.8623\n",
      "Epoch 30/200\n",
      "322/322 [==============================] - 1s 3ms/step - loss: 0.2568 - accuracy: 0.9969 - val_loss: 0.6482 - val_accuracy: 0.8551\n",
      "Epoch 31/200\n",
      "322/322 [==============================] - 1s 3ms/step - loss: 0.3000 - accuracy: 0.9658 - val_loss: 0.8152 - val_accuracy: 0.8116\n",
      "Epoch 32/200\n",
      "322/322 [==============================] - 1s 3ms/step - loss: 0.2444 - accuracy: 1.0000 - val_loss: 0.6456 - val_accuracy: 0.8696\n",
      "Epoch 33/200\n",
      "322/322 [==============================] - 1s 4ms/step - loss: 0.2345 - accuracy: 1.0000 - val_loss: 0.6893 - val_accuracy: 0.8623\n",
      "Epoch 34/200\n",
      "322/322 [==============================] - 1s 4ms/step - loss: 0.2497 - accuracy: 0.9876 - val_loss: 0.8744 - val_accuracy: 0.8043\n",
      "Epoch 35/200\n",
      "322/322 [==============================] - 1s 4ms/step - loss: 0.2407 - accuracy: 0.9907 - val_loss: 0.7184 - val_accuracy: 0.7971\n",
      "Epoch 36/200\n",
      "322/322 [==============================] - 1s 4ms/step - loss: 0.2169 - accuracy: 1.0000 - val_loss: 0.6639 - val_accuracy: 0.8696\n",
      "Epoch 37/200\n",
      "322/322 [==============================] - 1s 3ms/step - loss: 0.2414 - accuracy: 0.9907 - val_loss: 0.6016 - val_accuracy: 0.8478\n",
      "Epoch 38/200\n",
      "322/322 [==============================] - 1s 4ms/step - loss: 0.2017 - accuracy: 1.0000 - val_loss: 1.1625 - val_accuracy: 0.7536\n",
      "Epoch 39/200\n",
      "322/322 [==============================] - 1s 4ms/step - loss: 0.2365 - accuracy: 0.9783 - val_loss: 0.7424 - val_accuracy: 0.7826\n",
      "Epoch 40/200\n",
      "322/322 [==============================] - 1s 3ms/step - loss: 0.2028 - accuracy: 1.0000 - val_loss: 0.6850 - val_accuracy: 0.7899\n",
      "Epoch 41/200\n",
      "322/322 [==============================] - 1s 4ms/step - loss: 0.2022 - accuracy: 1.0000 - val_loss: 0.7483 - val_accuracy: 0.7826\n",
      "Epoch 42/200\n",
      "322/322 [==============================] - 1s 4ms/step - loss: 0.2015 - accuracy: 1.0000 - val_loss: 0.6737 - val_accuracy: 0.8696\n",
      "Epoch 43/200\n",
      "322/322 [==============================] - 1s 4ms/step - loss: 0.1994 - accuracy: 0.9969 - val_loss: 0.6430 - val_accuracy: 0.8696\n",
      "Epoch 44/200\n",
      "322/322 [==============================] - 1s 3ms/step - loss: 0.1729 - accuracy: 1.0000 - val_loss: 0.6455 - val_accuracy: 0.8623\n",
      "Epoch 45/200\n",
      "322/322 [==============================] - 1s 4ms/step - loss: 2.8765 - accuracy: 0.9410 - val_loss: 0.7187 - val_accuracy: 0.7971\n",
      "Epoch 46/200\n",
      "322/322 [==============================] - 1s 3ms/step - loss: 0.1754 - accuracy: 1.0000 - val_loss: 0.6877 - val_accuracy: 0.8188\n",
      "Epoch 47/200\n",
      "322/322 [==============================] - 1s 3ms/step - loss: 0.1708 - accuracy: 1.0000 - val_loss: 0.6757 - val_accuracy: 0.8478\n",
      "Epoch 48/200\n",
      "322/322 [==============================] - 1s 3ms/step - loss: 0.1662 - accuracy: 1.0000 - val_loss: 1.8820 - val_accuracy: 0.8478\n",
      "Epoch 49/200\n",
      "322/322 [==============================] - 1s 4ms/step - loss: 0.2019 - accuracy: 0.9969 - val_loss: 0.7366 - val_accuracy: 0.8696\n",
      "Epoch 50/200\n",
      "322/322 [==============================] - 1s 3ms/step - loss: 0.1768 - accuracy: 0.9907 - val_loss: 0.6302 - val_accuracy: 0.8478\n",
      "Epoch 51/200\n",
      "322/322 [==============================] - 1s 3ms/step - loss: 0.1599 - accuracy: 1.0000 - val_loss: 0.6479 - val_accuracy: 0.8406\n",
      "Epoch 52/200\n",
      "322/322 [==============================] - 1s 4ms/step - loss: 0.1552 - accuracy: 1.0000 - val_loss: 0.8397 - val_accuracy: 0.8043\n",
      "Epoch 53/200\n",
      "322/322 [==============================] - 1s 3ms/step - loss: 0.1717 - accuracy: 0.9938 - val_loss: 0.6674 - val_accuracy: 0.8043\n",
      "Epoch 54/200\n",
      "322/322 [==============================] - 1s 3ms/step - loss: 0.1500 - accuracy: 1.0000 - val_loss: 0.7030 - val_accuracy: 0.8261\n",
      "Epoch 55/200\n",
      "322/322 [==============================] - 1s 4ms/step - loss: 0.2198 - accuracy: 0.9627 - val_loss: 0.6438 - val_accuracy: 0.8043\n",
      "Epoch 56/200\n",
      "322/322 [==============================] - 1s 4ms/step - loss: 0.1510 - accuracy: 1.0000 - val_loss: 0.6130 - val_accuracy: 0.8478\n",
      "Epoch 57/200\n",
      "322/322 [==============================] - 1s 4ms/step - loss: 0.1450 - accuracy: 1.0000 - val_loss: 0.6266 - val_accuracy: 0.8478\n",
      "Epoch 00057: early stopping\n"
     ]
    }
   ],
   "source": [
    "from keras.models import Sequential\n",
    "from keras.layers.embeddings import Embedding\n",
    "from keras.layers import LSTM, Bidirectional, Dropout, GRU, TimeDistributed\n",
    "from keras.layers import Dense, Flatten\n",
    "from keras.callbacks import EarlyStopping\n",
    "from sklearn.metrics import classification_report,confusion_matrix\n",
    "from keras.optimizers import Adam, SGD\n",
    "from keras import regularizers\n",
    "from keras.optimizers import RMSprop\n",
    "\n",
    "np.random.seed(7)\n",
    "\n",
    "RNN = Sequential()\n",
    "RNN.add(Embedding(Vocab_size, Embed_Dim, weights=[embedding_matrix], input_length=Max_len, trainable=False))\n",
    "\n",
    "RNN.add(Bidirectional(GRU(50, input_shape=(X_train_.shape[0],), kernel_regularizer=regularizers.l1_l2(l1=0.001, l2=0.001), bias_regularizer=regularizers.l1_l2(l1=0.001, l2=0.001), return_sequences=True, activation=\"relu\")))\n",
    "RNN.add(Dropout(0.2))\n",
    "RNN.add(Flatten())\n",
    "\n",
    "RNN.add(Dense(1, activation=\"sigmoid\"))\n",
    "RNN.compile(loss='binary_crossentropy', optimizer=RMSprop(lr=0.001), metrics=['accuracy'])\n",
    "es = EarlyStopping(monitor='val_loss', mode='min', verbose=1, patience=20)\n",
    "print(RNN.summary())\n",
    "\n",
    "model_ = RNN.fit(X_train_, Y_train, validation_data=(X_test_, Y_test), epochs=200, callbacks=[es], verbose=True)"
   ]
  },
  {
   "cell_type": "markdown",
   "metadata": {},
   "source": [
    "                                                ==================================================================\n",
    "\n",
    "=) Plot The Training History"
   ]
  },
  {
   "cell_type": "code",
   "execution_count": 36,
   "metadata": {},
   "outputs": [
    {
     "data": {
      "image/png": "[encoded data removed]",
      "text/plain": [
       "<Figure size 864x360 with 2 Axes>"
      ]
     },
     "metadata": {
      "needs_background": "light"
     },
     "output_type": "display_data"
    }
   ],
   "source": [
    "def plot_history(history):\n",
    "    acc = history.history['accuracy']\n",
    "    val_acc = history.history['val_accuracy']\n",
    "\n",
    "    loss = history.history['loss']\n",
    "    val_loss = history.history['val_loss']\n",
    "    x = range(1, len(acc) + 1)\n",
    "\n",
    "    plt.figure(figsize=(12, 5))\n",
    "    plt.subplot(1, 2, 1)\n",
    "    plt.plot(x, acc, 'b', label='Training acc')\n",
    "    plt.plot(x, val_acc, 'r', label='Validation acc')\n",
    "    plt.title('Training and validation accuracy')\n",
    "    plt.legend()\n",
    "    plt.subplot(1, 2, 2)\n",
    "    plt.plot(x, loss, 'b', label='Training loss')\n",
    "    plt.plot(x, val_loss, 'r', label='Validation loss')\n",
    "    plt.title('Training and validation loss')\n",
    "    plt.legend()\n",
    "\n",
    "plot_history(model_)"
   ]
  },
  {
   "cell_type": "markdown",
   "metadata": {},
   "source": [
    "                                                =========================================================================\n",
    "\n",
    "=) After Finishing Training process, Save The Model, and \n",
    "\n",
    "    1) Generate Confusion Matrix\n",
    "\n",
    "    2) Generate The Classification Report \n",
    "\n",
    "    3) Printing The Training & Testing Accuracies"
   ]
  },
  {
   "cell_type": "code",
   "execution_count": 37,
   "metadata": {},
   "outputs": [
    {
     "name": "stdout",
     "output_type": "stream",
     "text": [
      "RNN's Confusion Matrix :\n",
      "  [[64 12]\n",
      " [ 9 53]]\n",
      "RNN's REPORT :\n",
      "                precision    recall  f1-score   support\n",
      "\n",
      "           0       0.88      0.84      0.86        76\n",
      "           1       0.82      0.85      0.83        62\n",
      "\n",
      "    accuracy                           0.85       138\n",
      "   macro avg       0.85      0.85      0.85       138\n",
      "weighted avg       0.85      0.85      0.85       138\n",
      "\n",
      "Training Accuracy: 100.00\n",
      "Testing Accuracy:  84.78\n"
     ]
    }
   ],
   "source": [
    "#RNN.save(\"RNN_93%\")\n",
    "Predictions = RNN.predict_classes(X_test_)\n",
    "cm = confusion_matrix(Y_test,Predictions)\n",
    "print(\"RNN's Confusion Matrix :\\n \", cm)\n",
    "print(\"RNN's REPORT :\\n \", classification_report(Y_test, Predictions))\n",
    "loss_tr, accuracy_tr = RNN.evaluate(X_train_, Y_train, verbose=False)\n",
    "print(\"Training Accuracy: {:.2f}\".format(accuracy_tr * 100))\n",
    "loss_ts, accuracy_ts = RNN.evaluate(X_test_, Y_test, verbose=False)\n",
    "print(\"Testing Accuracy:  {:.2f}\".format(accuracy_ts * 100))"
   ]
  },
  {
   "cell_type": "markdown",
   "metadata": {},
   "source": [
    "                                                   =====================================================================\n",
    "\n",
    "=) Plotting The Confusion Matrix"
   ]
  },
  {
   "cell_type": "code",
   "execution_count": 38,
   "metadata": {},
   "outputs": [
    {
     "data": {
      "text/plain": [
       "[Text(0, 0.5, 'Non-Medical'), Text(0, 1.5, 'Medical')]"
      ]
     },
     "execution_count": 38,
     "metadata": {},
     "output_type": "execute_result"
    },
    {
     "data": {
      "image/png": "[encoded data removed]",
      "text/plain": [
       "<Figure size 432x288 with 2 Axes>"
      ]
     },
     "metadata": {
      "needs_background": "light"
     },
     "output_type": "display_data"
    }
   ],
   "source": [
    "import seaborn as sns\n",
    "import matplotlib.pyplot as plt     \n",
    "\n",
    "ax= plt.subplot()\n",
    "sns.heatmap(cm, annot=True, ax = ax)\n",
    "ax.set_xlabel('Predicted labels')\n",
    "ax.set_ylabel('True labels')\n",
    "ax.set_title('Confusion Matrix')\n",
    "ax.xaxis.set_ticklabels(['Non-Medical', 'Medical'])\n",
    "ax.yaxis.set_ticklabels(['Non-Medical', 'Medical'])"
   ]
  },
  {
   "cell_type": "markdown",
   "metadata": {},
   "source": [
    "                                                        =======================================================================\n",
    "\n",
    "=) Read the rest of Medical_usage column to make predictions and fill the null values"
   ]
  },
  {
   "cell_type": "code",
   "execution_count": 39,
   "metadata": {},
   "outputs": [],
   "source": [
    "DF_ = Data_[[\"Description\", \"Medical_usage\"]][401:]\n",
    "X_ = DF_.Description.str.lower()\n",
    "X_ = DF_.Description.apply(lambda x: ' '.join([wordnet_lemmatizer.lemmatize(item) for item in str(x).split() if item not in stop]))\n",
    "X_Pred = Obj.texts_to_sequences(X_)\n",
    "X_Pred_ = pad_sequences(X_Pred, padding='post', maxlen=Max_len)"
   ]
  },
  {
   "cell_type": "markdown",
   "metadata": {},
   "source": [
    "=) Use the saved model to predict the rest of samples unlabled in the dataset"
   ]
  },
  {
   "cell_type": "code",
   "execution_count": 52,
   "metadata": {},
   "outputs": [
    {
     "data": {
      "text/html": [
       "<div>\n",
       "<style scoped>\n",
       "    .dataframe tbody tr th:only-of-type {\n",
       "        vertical-align: middle;\n",
       "    }\n",
       "\n",
       "    .dataframe tbody tr th {\n",
       "        vertical-align: top;\n",
       "    }\n",
       "\n",
       "    .dataframe thead th {\n",
       "        text-align: right;\n",
       "    }\n",
       "</style>\n",
       "<table border=\"1\" class=\"dataframe\">\n",
       "  <thead>\n",
       "    <tr style=\"text-align: right;\">\n",
       "      <th></th>\n",
       "      <th>Strain</th>\n",
       "      <th>Type</th>\n",
       "      <th>Rating</th>\n",
       "      <th>Flavor</th>\n",
       "      <th>Effects</th>\n",
       "      <th>Description</th>\n",
       "      <th>Medical_usage</th>\n",
       "    </tr>\n",
       "  </thead>\n",
       "  <tbody>\n",
       "    <tr>\n",
       "      <th>2341</th>\n",
       "      <td>Yummy</td>\n",
       "      <td>hybrid</td>\n",
       "      <td>4.2</td>\n",
       "      <td>Sweet,Earthy,Pungent</td>\n",
       "      <td>Uplifted,Relaxed,Happy,Energetic,Euphoric</td>\n",
       "      <td>Yummy is an indica-dominant hybrid that hails ...</td>\n",
       "      <td>Nonmedical</td>\n",
       "    </tr>\n",
       "    <tr>\n",
       "      <th>2342</th>\n",
       "      <td>Zamaldelica</td>\n",
       "      <td>sativa</td>\n",
       "      <td>5.0</td>\n",
       "      <td>None</td>\n",
       "      <td>Tingly,Uplifted,Energetic</td>\n",
       "      <td>Zamaldelica by Ace Seeds is a potent sativa-do...</td>\n",
       "      <td>Nonmedical</td>\n",
       "    </tr>\n",
       "    <tr>\n",
       "      <th>2343</th>\n",
       "      <td>Zellys-Gift</td>\n",
       "      <td>sativa</td>\n",
       "      <td>5.0</td>\n",
       "      <td>Sweet,Citrus,Lime</td>\n",
       "      <td>Happy,Uplifted,Energetic,Relaxed,Euphoric</td>\n",
       "      <td>Zelly’s Gift by Dragonfly Earth Medicine is a ...</td>\n",
       "      <td>Medical</td>\n",
       "    </tr>\n",
       "    <tr>\n",
       "      <th>2344</th>\n",
       "      <td>Zen</td>\n",
       "      <td>hybrid</td>\n",
       "      <td>4.3</td>\n",
       "      <td>Earthy,Sweet,Flowery</td>\n",
       "      <td>Happy,Energetic,Uplifted,Euphoric,Focused</td>\n",
       "      <td>With a balanced ratio of THC and CBD, Zen is t...</td>\n",
       "      <td>Medical</td>\n",
       "    </tr>\n",
       "    <tr>\n",
       "      <th>2345</th>\n",
       "      <td>Zeta-Sage</td>\n",
       "      <td>sativa</td>\n",
       "      <td>4.5</td>\n",
       "      <td>Diesel,Pungent,Sage</td>\n",
       "      <td>Happy,Relaxed,Uplifted,Euphoric,Focused</td>\n",
       "      <td>Zeta Sage is a sativa-dominant hybrid that com...</td>\n",
       "      <td>Nonmedical</td>\n",
       "    </tr>\n",
       "    <tr>\n",
       "      <th>2346</th>\n",
       "      <td>Zeus-Og</td>\n",
       "      <td>hybrid</td>\n",
       "      <td>4.7</td>\n",
       "      <td>Earthy,Woody,Pine</td>\n",
       "      <td>Happy,Uplifted,Relaxed,Euphoric,Energetic</td>\n",
       "      <td>Zeus OG is a hybrid cross between Pineapple OG...</td>\n",
       "      <td>Nonmedical</td>\n",
       "    </tr>\n",
       "    <tr>\n",
       "      <th>2347</th>\n",
       "      <td>Zkittlez</td>\n",
       "      <td>indica</td>\n",
       "      <td>4.6</td>\n",
       "      <td>Sweet,Berry,Grape</td>\n",
       "      <td>Relaxed,Happy,Euphoric,Uplifted,Sleepy</td>\n",
       "      <td>Zkittlez is an indica-dominant mix of Grape Ap...</td>\n",
       "      <td>Nonmedical</td>\n",
       "    </tr>\n",
       "    <tr>\n",
       "      <th>2348</th>\n",
       "      <td>Zombie-Kush</td>\n",
       "      <td>indica</td>\n",
       "      <td>5.0</td>\n",
       "      <td>Earthy,Sweet,Spicy/Herbal</td>\n",
       "      <td>Relaxed,Sleepy,Talkative,Euphoric,Happy</td>\n",
       "      <td>Zombie Kush by Ripper Seeds comes from two dif...</td>\n",
       "      <td>Nonmedical</td>\n",
       "    </tr>\n",
       "    <tr>\n",
       "      <th>2349</th>\n",
       "      <td>Zombie-Og</td>\n",
       "      <td>indica</td>\n",
       "      <td>4.4</td>\n",
       "      <td>Sweet,Earthy,Pungent</td>\n",
       "      <td>Relaxed,Sleepy,Euphoric,Happy,Hungry</td>\n",
       "      <td>If you’re looking to transform into a flesh-ea...</td>\n",
       "      <td>Nonmedical</td>\n",
       "    </tr>\n",
       "    <tr>\n",
       "      <th>2350</th>\n",
       "      <td>Zoom-Pie</td>\n",
       "      <td>indica</td>\n",
       "      <td>4.6</td>\n",
       "      <td>Berry,Earthy,Pungent</td>\n",
       "      <td>Hungry,Relaxed,Uplifted,Happy,Sleepy</td>\n",
       "      <td>Zoom Pie (also known as Zombie Pie) is a heavy...</td>\n",
       "      <td>Nonmedical</td>\n",
       "    </tr>\n",
       "  </tbody>\n",
       "</table>\n",
       "</div>"
      ],
      "text/plain": [
       "           Strain    Type  Rating                     Flavor  \\\n",
       "2341        Yummy  hybrid     4.2       Sweet,Earthy,Pungent   \n",
       "2342  Zamaldelica  sativa     5.0                       None   \n",
       "2343  Zellys-Gift  sativa     5.0          Sweet,Citrus,Lime   \n",
       "2344          Zen  hybrid     4.3       Earthy,Sweet,Flowery   \n",
       "2345    Zeta-Sage  sativa     4.5        Diesel,Pungent,Sage   \n",
       "2346      Zeus-Og  hybrid     4.7          Earthy,Woody,Pine   \n",
       "2347     Zkittlez  indica     4.6          Sweet,Berry,Grape   \n",
       "2348  Zombie-Kush  indica     5.0  Earthy,Sweet,Spicy/Herbal   \n",
       "2349    Zombie-Og  indica     4.4       Sweet,Earthy,Pungent   \n",
       "2350     Zoom-Pie  indica     4.6       Berry,Earthy,Pungent   \n",
       "\n",
       "                                        Effects  \\\n",
       "2341  Uplifted,Relaxed,Happy,Energetic,Euphoric   \n",
       "2342                  Tingly,Uplifted,Energetic   \n",
       "2343  Happy,Uplifted,Energetic,Relaxed,Euphoric   \n",
       "2344  Happy,Energetic,Uplifted,Euphoric,Focused   \n",
       "2345    Happy,Relaxed,Uplifted,Euphoric,Focused   \n",
       "2346  Happy,Uplifted,Relaxed,Euphoric,Energetic   \n",
       "2347     Relaxed,Happy,Euphoric,Uplifted,Sleepy   \n",
       "2348    Relaxed,Sleepy,Talkative,Euphoric,Happy   \n",
       "2349       Relaxed,Sleepy,Euphoric,Happy,Hungry   \n",
       "2350       Hungry,Relaxed,Uplifted,Happy,Sleepy   \n",
       "\n",
       "                                            Description Medical_usage  \n",
       "2341  Yummy is an indica-dominant hybrid that hails ...    Nonmedical  \n",
       "2342  Zamaldelica by Ace Seeds is a potent sativa-do...    Nonmedical  \n",
       "2343  Zelly’s Gift by Dragonfly Earth Medicine is a ...       Medical  \n",
       "2344  With a balanced ratio of THC and CBD, Zen is t...       Medical  \n",
       "2345  Zeta Sage is a sativa-dominant hybrid that com...    Nonmedical  \n",
       "2346  Zeus OG is a hybrid cross between Pineapple OG...    Nonmedical  \n",
       "2347  Zkittlez is an indica-dominant mix of Grape Ap...    Nonmedical  \n",
       "2348  Zombie Kush by Ripper Seeds comes from two dif...    Nonmedical  \n",
       "2349  If you’re looking to transform into a flesh-ea...    Nonmedical  \n",
       "2350  Zoom Pie (also known as Zombie Pie) is a heavy...    Nonmedical  "
      ]
     },
     "execution_count": 52,
     "metadata": {},
     "output_type": "execute_result"
    }
   ],
   "source": [
    "from keras.models import load_model\n",
    "import itertools\n",
    "\n",
    "Model = load_model(\"RNN_93%\")\n",
    "Predictions = list(itertools.chain(*Model.predict_classes(X_Pred_)))\n",
    "Predictions_ = [\"Nonmedical\" if x==1 else \"Medical\" for x in Predictions]\n",
    "_Predictions_ = [DF_.Medical_usage.tolist()]\n",
    "_Predictions_.append(Predictions_)\n",
    "_Predictions_ = list(itertools.chain(*_Predictions_))\n",
    "DF_.Medical_usage = pd.DataFrame(_Predictions_, columns=[\"Medical_usage\"])\n",
    "DF_.head()\n",
    "DD = pd.concat([Data_.Medical_usage.iloc[:401], DF_.Medical_usage])\n",
    "Data_.Medical_usage = DD\n",
    "Data_.to_csv(\"cannabis_1.csv\")\n",
    "Data_.tail(10)"
   ]
  },
  {
   "cell_type": "markdown",
   "metadata": {},
   "source": [
    "=) Check the whole column's balance after filling the unlabled samples"
   ]
  },
  {
   "cell_type": "code",
   "execution_count": 53,
   "metadata": {},
   "outputs": [
    {
     "name": "stdout",
     "output_type": "stream",
     "text": [
      "Nonmedical    1593\n",
      "Medical        673\n",
      "Name: Medical_usage, dtype: int64\n"
     ]
    },
    {
     "data": {
      "text/plain": [
       "Text(0, 0.5, 'Label')"
      ]
     },
     "execution_count": 53,
     "metadata": {},
     "output_type": "execute_result"
    },
    {
     "data": {
      "image/png": "[encoded data removed]",
      "text/plain": [
       "<Figure size 432x288 with 1 Axes>"
      ]
     },
     "metadata": {
      "needs_background": "light"
     },
     "output_type": "display_data"
    }
   ],
   "source": [
    "print(Data_.Medical_usage.value_counts())\n",
    "ay = Data_.Medical_usage.value_counts(sort=False).plot(kind='barh')\n",
    "ay.set_xlabel(\"Number of Samples in training Set After Resampling\")\n",
    "ay.set_ylabel(\"Label\")"
   ]
  },
  {
   "cell_type": "markdown",
   "metadata": {},
   "source": [
    "=========================================================================================================================================\n",
    "\n",
    "                                                                    Recommender System Part\n",
    "                                                                Using Cosine Similarity Method \n",
    "\n",
    "========================================================================================================================================="
   ]
  },
  {
   "cell_type": "markdown",
   "metadata": {},
   "source": [
    "=) Create New DataFrame holds the columns of interest for recommendations\n",
    "    \n",
    "        Strains Column, Rating Column, (Effects, Medical_usage) Combined together"
   ]
  },
  {
   "cell_type": "code",
   "execution_count": 54,
   "metadata": {},
   "outputs": [
    {
     "data": {
      "text/html": [
       "<div>\n",
       "<style scoped>\n",
       "    .dataframe tbody tr th:only-of-type {\n",
       "        vertical-align: middle;\n",
       "    }\n",
       "\n",
       "    .dataframe tbody tr th {\n",
       "        vertical-align: top;\n",
       "    }\n",
       "\n",
       "    .dataframe thead th {\n",
       "        text-align: right;\n",
       "    }\n",
       "</style>\n",
       "<table border=\"1\" class=\"dataframe\">\n",
       "  <thead>\n",
       "    <tr style=\"text-align: right;\">\n",
       "      <th></th>\n",
       "      <th>Strain</th>\n",
       "      <th>Ratings</th>\n",
       "      <th>Combined_attributes</th>\n",
       "    </tr>\n",
       "  </thead>\n",
       "  <tbody>\n",
       "    <tr>\n",
       "      <th>2272</th>\n",
       "      <td>Zeus-Og</td>\n",
       "      <td>4.7</td>\n",
       "      <td>Happy,Uplifted,Relaxed,Euphoric,Energetic,Nonmedical,Earthy,Woody,Pine,hybrid</td>\n",
       "    </tr>\n",
       "    <tr>\n",
       "      <th>2273</th>\n",
       "      <td>Zkittlez</td>\n",
       "      <td>4.6</td>\n",
       "      <td>Relaxed,Happy,Euphoric,Uplifted,Sleepy,Nonmedical,Sweet,Berry,Grape,indica</td>\n",
       "    </tr>\n",
       "    <tr>\n",
       "      <th>2274</th>\n",
       "      <td>Zombie-Kush</td>\n",
       "      <td>5.0</td>\n",
       "      <td>Relaxed,Sleepy,Talkative,Euphoric,Happy,Nonmedical,Earthy,Sweet,Spicy/Herbal,indica</td>\n",
       "    </tr>\n",
       "    <tr>\n",
       "      <th>2275</th>\n",
       "      <td>Zombie-Og</td>\n",
       "      <td>4.4</td>\n",
       "      <td>Relaxed,Sleepy,Euphoric,Happy,Hungry,Nonmedical,Sweet,Earthy,Pungent,indica</td>\n",
       "    </tr>\n",
       "    <tr>\n",
       "      <th>2276</th>\n",
       "      <td>Zoom-Pie</td>\n",
       "      <td>4.6</td>\n",
       "      <td>Hungry,Relaxed,Uplifted,Happy,Sleepy,Nonmedical,Berry,Earthy,Pungent,indica</td>\n",
       "    </tr>\n",
       "  </tbody>\n",
       "</table>\n",
       "</div>"
      ],
      "text/plain": [
       "           Strain  Ratings  \\\n",
       "2272      Zeus-Og      4.7   \n",
       "2273     Zkittlez      4.6   \n",
       "2274  Zombie-Kush      5.0   \n",
       "2275    Zombie-Og      4.4   \n",
       "2276     Zoom-Pie      4.6   \n",
       "\n",
       "                                                                      Combined_attributes  \n",
       "2272        Happy,Uplifted,Relaxed,Euphoric,Energetic,Nonmedical,Earthy,Woody,Pine,hybrid  \n",
       "2273           Relaxed,Happy,Euphoric,Uplifted,Sleepy,Nonmedical,Sweet,Berry,Grape,indica  \n",
       "2274  Relaxed,Sleepy,Talkative,Euphoric,Happy,Nonmedical,Earthy,Sweet,Spicy/Herbal,indica  \n",
       "2275          Relaxed,Sleepy,Euphoric,Happy,Hungry,Nonmedical,Sweet,Earthy,Pungent,indica  \n",
       "2276          Hungry,Relaxed,Uplifted,Happy,Sleepy,Nonmedical,Berry,Earthy,Pungent,indica  "
      ]
     },
     "execution_count": 54,
     "metadata": {},
     "output_type": "execute_result"
    }
   ],
   "source": [
    "Data_ = pd.read_csv(\"cannabis_1.csv\")\n",
    "pd.set_option('max_colwidth', 100)\n",
    "DF = pd.DataFrame()\n",
    "DF['Strain'] = Data_[\"Strain\"]\n",
    "DF['Ratings'] = Data_['Rating']\n",
    "DF['Combined_attributes'] = pd.Series(Data_[['Effects', 'Medical_usage', 'Flavor', 'Type']].fillna('').values.tolist()).str.join(',')\n",
    "DF = DF.dropna()\n",
    "DF.tail()"
   ]
  },
  {
   "cell_type": "markdown",
   "metadata": {},
   "source": [
    "                                                        ============================================================\n",
    "\n",
    "=) Applying some feature engineering techniques (i.e Lower, lemmatize \"Combined_attributes\" Column)"
   ]
  },
  {
   "cell_type": "code",
   "execution_count": 55,
   "metadata": {},
   "outputs": [],
   "source": [
    "from nltk.stem import WordNetLemmatizer\n",
    "wordnet_lemmatizer = WordNetLemmatizer()\n",
    "\n",
    "DF.Combined_attributes = DF.Combined_attributes.str.lower()\n",
    "DF.Combined_attributes = DF.Combined_attributes.apply(lambda x: ' '.join([wordnet_lemmatizer.lemmatize(item) for item in x.split(\",\")]))"
   ]
  },
  {
   "cell_type": "markdown",
   "metadata": {},
   "source": [
    "=) Initialize The TFIDF Vectorizer's Object to convert Text into numeric matrix"
   ]
  },
  {
   "cell_type": "code",
   "execution_count": 56,
   "metadata": {},
   "outputs": [],
   "source": [
    "from sklearn.feature_extraction.text import TfidfVectorizer\n",
    "vectorizer = TfidfVectorizer(analyzer='word', min_df=0.003, smooth_idf=True, use_idf=True)"
   ]
  },
  {
   "cell_type": "markdown",
   "metadata": {},
   "source": [
    "=) Preparing the pipeline of recommendations extraction\n",
    "\n",
    "    linear_kernel:: Is the Method that computes the angle between two vectors (i.e If the angle is small, so the two vectors are similar and close too much)\n",
    "    linear_kernel is the same as \"cosine_similarity\" method but it's faster.\n",
    "    \n",
    "    indices :: Represent a pandas Series, Wich contains The \"Combined_attributes\" as an index to make matches with the raw input for similarity check, and The index of \"Strain\" Column \n",
    "    to get The recommended Strain Indecies from the original Dataset\n",
    "        \n",
    "    DF:: Represents The Dataset of (Strain, Ratings, Combined_attributes)\n",
    "    tfidf_matrix:: Represents the Vectors of Combined_attributes after applying TFIDF Vectorizer on it (Turning Text documents into numeric vectors)\n",
    "    Rate_Scale:: Represents a scale between 0 and 1 as a normalized \"Ratings\" column, useful for more accurate similarities\n",
    "    \n",
    "=) For each TFIDF vector of (Combined_attributes), append corresponding raw (Rating_scale) value likewise finally [Vector values of Effects, Vector value of Medical_usage class, Rating scale value]\n",
    "    Cos_Sim:: Represents 2D Matrix which holds the similarity score between each raw and all raws of the dataset pairs indixed by the index of the original dataset.\n",
    "    Scores:: represented as (Raw index, list of similarity Scores of this raw with all data raws in pairs)\n",
    "    Best_Scores:: Represents the Descending order of the scores to get largest ten scores.\n",
    "    Recommended_Strains:: Holds the Indecies of the ten largest scored raws in the original dataset \n",
    "    Strains:: Uses \"Recommended_Strains\" to Get Strains' names from the original dataset\n",
    "    Final_DF:: Represents The important Information to be Displayed (INDEX \"Recommended Strains Indecies\", \"RECOMMENDED_STRAINS \" Strains Names, SCORE \"How much recommended based on the input aspects\") "
   ]
  },
  {
   "cell_type": "code",
   "execution_count": 57,
   "metadata": {},
   "outputs": [
    {
     "name": "stdout",
     "output_type": "stream",
     "text": [
      "Combined_attributes\n",
      "creative energetic tingly euphoric relaxed medical earthy sweet citrus hybrid          0\n",
      "relaxed aroused creative happy energetic medical flowery violet diesel hybrid          1\n",
      "uplifted happy relaxed energetic creative nonmedical spicy/herbal sage woody sativa    2\n",
      "tingly creative hungry relaxed uplifted medical apricot citrus grapefruit hybrid       3\n",
      "happy relaxed euphoric uplifted talkative nonmedical citrus earthy orange hybrid       4\n",
      "dtype: int64\n"
     ]
    }
   ],
   "source": [
    "from sklearn.metrics.pairwise import linear_kernel\n",
    "from sklearn.preprocessing import normalize \n",
    "from scipy.sparse import csr_matrix\n",
    "\n",
    "indices = pd.Series(DF.Strain.index, index=DF.Combined_attributes).drop_duplicates()\n",
    "print(indices.head())\n",
    "\n",
    "def Get_Strain_Recommendations(Effects, Medical_class, Flavor, Type, Rate, DF = DF):\n",
    "    Combined_attributes = \" \".join([\" \".join(Effects.split(\",\")), Medical_class, \" \".join(Flavor.split(\",\")), Type]).lower()\n",
    "    DF = DF.append({\"Combined_attributes\" : Combined_attributes, \"Ratings\" : Rate}, ignore_index=True)\n",
    "    tfidf_matrix = (vectorizer.fit_transform(DF.Combined_attributes))\n",
    "    tfidf_Matrix = tfidf_matrix.todense().tolist()\n",
    "    Rate_scale = normalize([DF.Ratings]).tolist()\n",
    "    Rate_scale = list(chain(*Rate_scale))\n",
    "    for indx, vector in enumerate(tfidf_Matrix):\n",
    "        vector.append(Rate_scale[indx])\n",
    "    tfidf_Matrix_sp = csr_matrix(tfidf_Matrix)\n",
    "    Cos_Sim = linear_kernel(tfidf_Matrix_sp, tfidf_Matrix_sp)\n",
    "    indices = pd.Series(DF.Strain.index, index=DF.Combined_attributes).drop_duplicates()\n",
    "    indx = indices[Combined_attributes]\n",
    "    Scores = list(enumerate(Cos_Sim[indx]))\n",
    "    Best_Scores = sorted(Scores, key=lambda x: x[1], reverse=True)[1:11]\n",
    "    Recommended_Strains = [x[0] for x in Best_Scores]\n",
    "    Strains = DF.Strain.iloc[Recommended_Strains]\n",
    "    Final_DF = pd.DataFrame()\n",
    "    Final_DF['INDEX'] = Recommended_Strains\n",
    "    Final_DF['RECOMMENDED_STRAINS'] = Strains.values.tolist()\n",
    "    Final_DF['SCORE'] = [x[1] for x in Best_Scores]\n",
    "    return Final_DF"
   ]
  },
  {
   "cell_type": "markdown",
   "metadata": {},
   "source": [
    "================================================================\n",
    "                                \n",
    "                                Testing\n",
    "                                \n",
    "================================================================\n",
    "\n",
    "                           "
   ]
  },
  {
   "cell_type": "code",
   "execution_count": 58,
   "metadata": {},
   "outputs": [
    {
     "data": {
      "text/html": [
       "<div>\n",
       "<style scoped>\n",
       "    .dataframe tbody tr th:only-of-type {\n",
       "        vertical-align: middle;\n",
       "    }\n",
       "\n",
       "    .dataframe tbody tr th {\n",
       "        vertical-align: top;\n",
       "    }\n",
       "\n",
       "    .dataframe thead th {\n",
       "        text-align: right;\n",
       "    }\n",
       "</style>\n",
       "<table border=\"1\" class=\"dataframe\">\n",
       "  <thead>\n",
       "    <tr style=\"text-align: right;\">\n",
       "      <th></th>\n",
       "      <th>INDEX</th>\n",
       "      <th>RECOMMENDED_STRAINS</th>\n",
       "      <th>SCORE</th>\n",
       "    </tr>\n",
       "  </thead>\n",
       "  <tbody>\n",
       "    <tr>\n",
       "      <th>0</th>\n",
       "      <td>0</td>\n",
       "      <td>100-Og</td>\n",
       "      <td>0.926666</td>\n",
       "    </tr>\n",
       "    <tr>\n",
       "      <th>1</th>\n",
       "      <td>1972</td>\n",
       "      <td>Sunburn</td>\n",
       "      <td>0.683507</td>\n",
       "    </tr>\n",
       "    <tr>\n",
       "      <th>2</th>\n",
       "      <td>172</td>\n",
       "      <td>Bay-11</td>\n",
       "      <td>0.680583</td>\n",
       "    </tr>\n",
       "    <tr>\n",
       "      <th>3</th>\n",
       "      <td>2004</td>\n",
       "      <td>Supernatural</td>\n",
       "      <td>0.676029</td>\n",
       "    </tr>\n",
       "    <tr>\n",
       "      <th>4</th>\n",
       "      <td>538</td>\n",
       "      <td>Cinderella-99</td>\n",
       "      <td>0.670233</td>\n",
       "    </tr>\n",
       "    <tr>\n",
       "      <th>5</th>\n",
       "      <td>697</td>\n",
       "      <td>Dream-Queen</td>\n",
       "      <td>0.670224</td>\n",
       "    </tr>\n",
       "    <tr>\n",
       "      <th>6</th>\n",
       "      <td>1428</td>\n",
       "      <td>Nightfire-Og</td>\n",
       "      <td>0.659164</td>\n",
       "    </tr>\n",
       "    <tr>\n",
       "      <th>7</th>\n",
       "      <td>124</td>\n",
       "      <td>Area-51</td>\n",
       "      <td>0.657406</td>\n",
       "    </tr>\n",
       "    <tr>\n",
       "      <th>8</th>\n",
       "      <td>98</td>\n",
       "      <td>Alpine-Star</td>\n",
       "      <td>0.656934</td>\n",
       "    </tr>\n",
       "    <tr>\n",
       "      <th>9</th>\n",
       "      <td>2153</td>\n",
       "      <td>Valentine-X</td>\n",
       "      <td>0.656260</td>\n",
       "    </tr>\n",
       "  </tbody>\n",
       "</table>\n",
       "</div>"
      ],
      "text/plain": [
       "   INDEX RECOMMENDED_STRAINS     SCORE\n",
       "0      0              100-Og  0.926666\n",
       "1   1972             Sunburn  0.683507\n",
       "2    172              Bay-11  0.680583\n",
       "3   2004        Supernatural  0.676029\n",
       "4    538       Cinderella-99  0.670233\n",
       "5    697         Dream-Queen  0.670224\n",
       "6   1428        Nightfire-Og  0.659164\n",
       "7    124             Area-51  0.657406\n",
       "8     98         Alpine-Star  0.656934\n",
       "9   2153         Valentine-X  0.656260"
      ]
     },
     "execution_count": 58,
     "metadata": {},
     "output_type": "execute_result"
    }
   ],
   "source": [
    "Get_Strain_Recommendations(\"creative, energetic, tingly, euphoric, relaxed\", \"medical\", \"earthy,citrus\", \"hybird\", 4.0)"
   ]
  },
  {
   "cell_type": "code",
   "execution_count": 59,
   "metadata": {},
   "outputs": [
    {
     "name": "stdout",
     "output_type": "stream",
     "text": [
      "[INFO].. RECOMMENDED STRAINS ::\n",
      "\n",
      "100-Og\tSunburn\tBay-11\tCinderella-99\tDream-Queen\tArea-51\tCaptains-Cake\tSuper-Silver-Haze\tIce-Wreck\tSun-Ra\n"
     ]
    }
   ],
   "source": [
    "Results = Get_Strain_Recommendations(\"creative, energetic, tingly, euphoric, relaxed\", \"medical\", \"earthy,sweet,citrus\", \"hybird\", 4.0)\n",
    "print(\"[INFO].. RECOMMENDED STRAINS ::\\n\")\n",
    "print(*Results.RECOMMENDED_STRAINS.values.tolist(), sep=\"\\t\")"
   ]
  },
  {
   "cell_type": "code",
   "execution_count": 60,
   "metadata": {},
   "outputs": [
    {
     "data": {
      "text/plain": [
       "Text(0.5, 1.0, 'DISTRIBUTION Plot')"
      ]
     },
     "execution_count": 60,
     "metadata": {},
     "output_type": "execute_result"
    },
    {
     "data": {
      "image/png": "[encoded data removed]",
      "text/plain": [
       "<Figure size 864x360 with 1 Axes>"
      ]
     },
     "metadata": {},
     "output_type": "display_data"
    }
   ],
   "source": [
    "import seaborn as sns, numpy as np\n",
    "sns.set()\n",
    "np.random.seed(0)\n",
    "x = Data_.Rating\n",
    "plt.figure(figsize=(12, 5))\n",
    "av = sns.distplot(x)\n",
    "av.set_xlabel(\"Ratings\")\n",
    "av.set_ylabel(\"Count\")\n",
    "av.set_title(\"DISTRIBUTION Plot\")"
   ]
  },
  {
   "cell_type": "code",
   "execution_count": null,
   "metadata": {},
   "outputs": [],
   "source": []
  }
 ],
 "metadata": {
  "kernelspec": {
   "display_name": "Python 3",
   "language": "python",
   "name": "python3"
  },
  "language_info": {
   "codemirror_mode": {
    "name": "ipython",
    "version": 3
   },
   "file_extension": ".py",
   "mimetype": "text/x-python",
   "name": "python",
   "nbconvert_exporter": "python",
   "pygments_lexer": "ipython3",
   "version": "3.7.6"
  }
 },
 "nbformat": 4,
 "nbformat_minor": 4
}
